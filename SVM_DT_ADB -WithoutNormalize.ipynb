{
 "cells": [
  {
   "cell_type": "code",
   "execution_count": 1,
   "metadata": {},
   "outputs": [],
   "source": [
    "import warnings\n",
    "warnings.filterwarnings('ignore')\n",
    "import pandas as pd\n",
    "import numpy as np\n",
    "from sklearn import metrics\n",
    "from sklearn.metrics import confusion_matrix,accuracy_score\n",
    "#from mlxtend.plotting import plot_confusion_matrix\n",
    "import seaborn as sns\n",
    "import matplotlib.pyplot as plt\n",
    "np.random.seed(2)"
   ]
  },
  {
   "cell_type": "code",
   "execution_count": 2,
   "metadata": {},
   "outputs": [],
   "source": [
    "data = pd.read_csv('creditcard.csv')"
   ]
  },
  {
   "cell_type": "markdown",
   "metadata": {},
   "source": [
    "# Data exploration"
   ]
  },
  {
   "cell_type": "code",
   "execution_count": 3,
   "metadata": {},
   "outputs": [
    {
     "data": {
      "text/html": [
       "<div>\n",
       "<style scoped>\n",
       "    .dataframe tbody tr th:only-of-type {\n",
       "        vertical-align: middle;\n",
       "    }\n",
       "\n",
       "    .dataframe tbody tr th {\n",
       "        vertical-align: top;\n",
       "    }\n",
       "\n",
       "    .dataframe thead th {\n",
       "        text-align: right;\n",
       "    }\n",
       "</style>\n",
       "<table border=\"1\" class=\"dataframe\">\n",
       "  <thead>\n",
       "    <tr style=\"text-align: right;\">\n",
       "      <th></th>\n",
       "      <th>Time</th>\n",
       "      <th>V1</th>\n",
       "      <th>V2</th>\n",
       "      <th>V3</th>\n",
       "      <th>V4</th>\n",
       "      <th>V5</th>\n",
       "      <th>V6</th>\n",
       "      <th>V7</th>\n",
       "      <th>V8</th>\n",
       "      <th>V9</th>\n",
       "      <th>...</th>\n",
       "      <th>V21</th>\n",
       "      <th>V22</th>\n",
       "      <th>V23</th>\n",
       "      <th>V24</th>\n",
       "      <th>V25</th>\n",
       "      <th>V26</th>\n",
       "      <th>V27</th>\n",
       "      <th>V28</th>\n",
       "      <th>Amount</th>\n",
       "      <th>Class</th>\n",
       "    </tr>\n",
       "  </thead>\n",
       "  <tbody>\n",
       "    <tr>\n",
       "      <th>0</th>\n",
       "      <td>51435.0</td>\n",
       "      <td>1.197490</td>\n",
       "      <td>-0.352125</td>\n",
       "      <td>-0.135904</td>\n",
       "      <td>0.222100</td>\n",
       "      <td>0.231128</td>\n",
       "      <td>1.086617</td>\n",
       "      <td>-0.420363</td>\n",
       "      <td>0.391464</td>\n",
       "      <td>0.672499</td>\n",
       "      <td>...</td>\n",
       "      <td>-0.337999</td>\n",
       "      <td>-0.963921</td>\n",
       "      <td>-0.121931</td>\n",
       "      <td>-1.723430</td>\n",
       "      <td>0.368319</td>\n",
       "      <td>0.408003</td>\n",
       "      <td>-0.031160</td>\n",
       "      <td>-0.013680</td>\n",
       "      <td>39.95</td>\n",
       "      <td>0</td>\n",
       "    </tr>\n",
       "    <tr>\n",
       "      <th>1</th>\n",
       "      <td>78049.0</td>\n",
       "      <td>0.976047</td>\n",
       "      <td>-0.289947</td>\n",
       "      <td>1.465321</td>\n",
       "      <td>1.300002</td>\n",
       "      <td>-1.382887</td>\n",
       "      <td>-0.479586</td>\n",
       "      <td>-0.632572</td>\n",
       "      <td>0.064533</td>\n",
       "      <td>0.710743</td>\n",
       "      <td>...</td>\n",
       "      <td>0.322829</td>\n",
       "      <td>0.790185</td>\n",
       "      <td>-0.101364</td>\n",
       "      <td>0.730461</td>\n",
       "      <td>0.286601</td>\n",
       "      <td>-0.283233</td>\n",
       "      <td>0.059639</td>\n",
       "      <td>0.061220</td>\n",
       "      <td>92.98</td>\n",
       "      <td>0</td>\n",
       "    </tr>\n",
       "    <tr>\n",
       "      <th>2</th>\n",
       "      <td>157168.0</td>\n",
       "      <td>-1.395302</td>\n",
       "      <td>0.478266</td>\n",
       "      <td>-0.584911</td>\n",
       "      <td>-1.201527</td>\n",
       "      <td>0.928544</td>\n",
       "      <td>-0.743618</td>\n",
       "      <td>0.755504</td>\n",
       "      <td>-0.141397</td>\n",
       "      <td>-2.118499</td>\n",
       "      <td>...</td>\n",
       "      <td>0.282803</td>\n",
       "      <td>0.903183</td>\n",
       "      <td>-0.444694</td>\n",
       "      <td>0.696438</td>\n",
       "      <td>1.153480</td>\n",
       "      <td>0.311671</td>\n",
       "      <td>-0.662353</td>\n",
       "      <td>-0.161005</td>\n",
       "      <td>29.57</td>\n",
       "      <td>0</td>\n",
       "    </tr>\n",
       "    <tr>\n",
       "      <th>3</th>\n",
       "      <td>69297.0</td>\n",
       "      <td>1.276014</td>\n",
       "      <td>-0.672705</td>\n",
       "      <td>-0.425494</td>\n",
       "      <td>-0.777398</td>\n",
       "      <td>-0.582088</td>\n",
       "      <td>-0.880396</td>\n",
       "      <td>-0.103505</td>\n",
       "      <td>-0.203036</td>\n",
       "      <td>-1.241653</td>\n",
       "      <td>...</td>\n",
       "      <td>0.256003</td>\n",
       "      <td>0.408211</td>\n",
       "      <td>-0.274815</td>\n",
       "      <td>0.028707</td>\n",
       "      <td>0.743485</td>\n",
       "      <td>-0.087089</td>\n",
       "      <td>-0.054869</td>\n",
       "      <td>-0.000007</td>\n",
       "      <td>92.68</td>\n",
       "      <td>0</td>\n",
       "    </tr>\n",
       "    <tr>\n",
       "      <th>4</th>\n",
       "      <td>144504.0</td>\n",
       "      <td>-0.312745</td>\n",
       "      <td>-1.202565</td>\n",
       "      <td>2.249806</td>\n",
       "      <td>-0.297210</td>\n",
       "      <td>-0.963389</td>\n",
       "      <td>1.207532</td>\n",
       "      <td>-0.837776</td>\n",
       "      <td>-0.057654</td>\n",
       "      <td>1.121421</td>\n",
       "      <td>...</td>\n",
       "      <td>-0.274386</td>\n",
       "      <td>0.682305</td>\n",
       "      <td>0.432717</td>\n",
       "      <td>0.722364</td>\n",
       "      <td>-1.394148</td>\n",
       "      <td>0.660007</td>\n",
       "      <td>-0.221374</td>\n",
       "      <td>-0.136090</td>\n",
       "      <td>40.00</td>\n",
       "      <td>0</td>\n",
       "    </tr>\n",
       "  </tbody>\n",
       "</table>\n",
       "<p>5 rows × 31 columns</p>\n",
       "</div>"
      ],
      "text/plain": [
       "       Time        V1        V2        V3        V4        V5        V6  \\\n",
       "0   51435.0  1.197490 -0.352125 -0.135904  0.222100  0.231128  1.086617   \n",
       "1   78049.0  0.976047 -0.289947  1.465321  1.300002 -1.382887 -0.479586   \n",
       "2  157168.0 -1.395302  0.478266 -0.584911 -1.201527  0.928544 -0.743618   \n",
       "3   69297.0  1.276014 -0.672705 -0.425494 -0.777398 -0.582088 -0.880396   \n",
       "4  144504.0 -0.312745 -1.202565  2.249806 -0.297210 -0.963389  1.207532   \n",
       "\n",
       "         V7        V8        V9  ...       V21       V22       V23       V24  \\\n",
       "0 -0.420363  0.391464  0.672499  ... -0.337999 -0.963921 -0.121931 -1.723430   \n",
       "1 -0.632572  0.064533  0.710743  ...  0.322829  0.790185 -0.101364  0.730461   \n",
       "2  0.755504 -0.141397 -2.118499  ...  0.282803  0.903183 -0.444694  0.696438   \n",
       "3 -0.103505 -0.203036 -1.241653  ...  0.256003  0.408211 -0.274815  0.028707   \n",
       "4 -0.837776 -0.057654  1.121421  ... -0.274386  0.682305  0.432717  0.722364   \n",
       "\n",
       "        V25       V26       V27       V28  Amount  Class  \n",
       "0  0.368319  0.408003 -0.031160 -0.013680   39.95      0  \n",
       "1  0.286601 -0.283233  0.059639  0.061220   92.98      0  \n",
       "2  1.153480  0.311671 -0.662353 -0.161005   29.57      0  \n",
       "3  0.743485 -0.087089 -0.054869 -0.000007   92.68      0  \n",
       "4 -1.394148  0.660007 -0.221374 -0.136090   40.00      0  \n",
       "\n",
       "[5 rows x 31 columns]"
      ]
     },
     "execution_count": 3,
     "metadata": {},
     "output_type": "execute_result"
    }
   ],
   "source": [
    "data.head()"
   ]
  },
  {
   "cell_type": "markdown",
   "metadata": {},
   "source": [
    "# Original Classes without Blanced"
   ]
  },
  {
   "cell_type": "code",
   "execution_count": 4,
   "metadata": {},
   "outputs": [
    {
     "data": {
      "image/png": "[encoded data removed]",
      "text/plain": [
       "<Figure size 576x576 with 1 Axes>"
      ]
     },
     "metadata": {
      "needs_background": "light"
     },
     "output_type": "display_data"
    }
   ],
   "source": [
    "plt.figure(figsize=(8, 8))\n",
    "sns.countplot('Class', data=data)\n",
    "plt.title('InBalanced Classes')\n",
    "plt.show()"
   ]
  },
  {
   "cell_type": "markdown",
   "metadata": {},
   "source": [
    "## Pre-processing"
   ]
  },
  {
   "cell_type": "code",
   "execution_count": 5,
   "metadata": {},
   "outputs": [
    {
     "data": {
      "text/html": [
       "<div>\n",
       "<style scoped>\n",
       "    .dataframe tbody tr th:only-of-type {\n",
       "        vertical-align: middle;\n",
       "    }\n",
       "\n",
       "    .dataframe tbody tr th {\n",
       "        vertical-align: top;\n",
       "    }\n",
       "\n",
       "    .dataframe thead th {\n",
       "        text-align: right;\n",
       "    }\n",
       "</style>\n",
       "<table border=\"1\" class=\"dataframe\">\n",
       "  <thead>\n",
       "    <tr style=\"text-align: right;\">\n",
       "      <th></th>\n",
       "      <th>Time</th>\n",
       "      <th>V1</th>\n",
       "      <th>V2</th>\n",
       "      <th>V3</th>\n",
       "      <th>V4</th>\n",
       "      <th>V5</th>\n",
       "      <th>V6</th>\n",
       "      <th>V7</th>\n",
       "      <th>V8</th>\n",
       "      <th>V9</th>\n",
       "      <th>...</th>\n",
       "      <th>V21</th>\n",
       "      <th>V22</th>\n",
       "      <th>V23</th>\n",
       "      <th>V24</th>\n",
       "      <th>V25</th>\n",
       "      <th>V26</th>\n",
       "      <th>V27</th>\n",
       "      <th>V28</th>\n",
       "      <th>Amount</th>\n",
       "      <th>Class</th>\n",
       "    </tr>\n",
       "  </thead>\n",
       "  <tbody>\n",
       "    <tr>\n",
       "      <th>0</th>\n",
       "      <td>51435.0</td>\n",
       "      <td>1.197490</td>\n",
       "      <td>-0.352125</td>\n",
       "      <td>-0.135904</td>\n",
       "      <td>0.222100</td>\n",
       "      <td>0.231128</td>\n",
       "      <td>1.086617</td>\n",
       "      <td>-0.420363</td>\n",
       "      <td>0.391464</td>\n",
       "      <td>0.672499</td>\n",
       "      <td>...</td>\n",
       "      <td>-0.337999</td>\n",
       "      <td>-0.963921</td>\n",
       "      <td>-0.121931</td>\n",
       "      <td>-1.723430</td>\n",
       "      <td>0.368319</td>\n",
       "      <td>0.408003</td>\n",
       "      <td>-0.031160</td>\n",
       "      <td>-0.013680</td>\n",
       "      <td>39.95</td>\n",
       "      <td>0</td>\n",
       "    </tr>\n",
       "    <tr>\n",
       "      <th>1</th>\n",
       "      <td>78049.0</td>\n",
       "      <td>0.976047</td>\n",
       "      <td>-0.289947</td>\n",
       "      <td>1.465321</td>\n",
       "      <td>1.300002</td>\n",
       "      <td>-1.382887</td>\n",
       "      <td>-0.479586</td>\n",
       "      <td>-0.632572</td>\n",
       "      <td>0.064533</td>\n",
       "      <td>0.710743</td>\n",
       "      <td>...</td>\n",
       "      <td>0.322829</td>\n",
       "      <td>0.790185</td>\n",
       "      <td>-0.101364</td>\n",
       "      <td>0.730461</td>\n",
       "      <td>0.286601</td>\n",
       "      <td>-0.283233</td>\n",
       "      <td>0.059639</td>\n",
       "      <td>0.061220</td>\n",
       "      <td>92.98</td>\n",
       "      <td>0</td>\n",
       "    </tr>\n",
       "    <tr>\n",
       "      <th>2</th>\n",
       "      <td>157168.0</td>\n",
       "      <td>-1.395302</td>\n",
       "      <td>0.478266</td>\n",
       "      <td>-0.584911</td>\n",
       "      <td>-1.201527</td>\n",
       "      <td>0.928544</td>\n",
       "      <td>-0.743618</td>\n",
       "      <td>0.755504</td>\n",
       "      <td>-0.141397</td>\n",
       "      <td>-2.118499</td>\n",
       "      <td>...</td>\n",
       "      <td>0.282803</td>\n",
       "      <td>0.903183</td>\n",
       "      <td>-0.444694</td>\n",
       "      <td>0.696438</td>\n",
       "      <td>1.153480</td>\n",
       "      <td>0.311671</td>\n",
       "      <td>-0.662353</td>\n",
       "      <td>-0.161005</td>\n",
       "      <td>29.57</td>\n",
       "      <td>0</td>\n",
       "    </tr>\n",
       "    <tr>\n",
       "      <th>3</th>\n",
       "      <td>69297.0</td>\n",
       "      <td>1.276014</td>\n",
       "      <td>-0.672705</td>\n",
       "      <td>-0.425494</td>\n",
       "      <td>-0.777398</td>\n",
       "      <td>-0.582088</td>\n",
       "      <td>-0.880396</td>\n",
       "      <td>-0.103505</td>\n",
       "      <td>-0.203036</td>\n",
       "      <td>-1.241653</td>\n",
       "      <td>...</td>\n",
       "      <td>0.256003</td>\n",
       "      <td>0.408211</td>\n",
       "      <td>-0.274815</td>\n",
       "      <td>0.028707</td>\n",
       "      <td>0.743485</td>\n",
       "      <td>-0.087089</td>\n",
       "      <td>-0.054869</td>\n",
       "      <td>-0.000007</td>\n",
       "      <td>92.68</td>\n",
       "      <td>0</td>\n",
       "    </tr>\n",
       "    <tr>\n",
       "      <th>4</th>\n",
       "      <td>144504.0</td>\n",
       "      <td>-0.312745</td>\n",
       "      <td>-1.202565</td>\n",
       "      <td>2.249806</td>\n",
       "      <td>-0.297210</td>\n",
       "      <td>-0.963389</td>\n",
       "      <td>1.207532</td>\n",
       "      <td>-0.837776</td>\n",
       "      <td>-0.057654</td>\n",
       "      <td>1.121421</td>\n",
       "      <td>...</td>\n",
       "      <td>-0.274386</td>\n",
       "      <td>0.682305</td>\n",
       "      <td>0.432717</td>\n",
       "      <td>0.722364</td>\n",
       "      <td>-1.394148</td>\n",
       "      <td>0.660007</td>\n",
       "      <td>-0.221374</td>\n",
       "      <td>-0.136090</td>\n",
       "      <td>40.00</td>\n",
       "      <td>0</td>\n",
       "    </tr>\n",
       "  </tbody>\n",
       "</table>\n",
       "<p>5 rows × 31 columns</p>\n",
       "</div>"
      ],
      "text/plain": [
       "       Time        V1        V2        V3        V4        V5        V6  \\\n",
       "0   51435.0  1.197490 -0.352125 -0.135904  0.222100  0.231128  1.086617   \n",
       "1   78049.0  0.976047 -0.289947  1.465321  1.300002 -1.382887 -0.479586   \n",
       "2  157168.0 -1.395302  0.478266 -0.584911 -1.201527  0.928544 -0.743618   \n",
       "3   69297.0  1.276014 -0.672705 -0.425494 -0.777398 -0.582088 -0.880396   \n",
       "4  144504.0 -0.312745 -1.202565  2.249806 -0.297210 -0.963389  1.207532   \n",
       "\n",
       "         V7        V8        V9  ...       V21       V22       V23       V24  \\\n",
       "0 -0.420363  0.391464  0.672499  ... -0.337999 -0.963921 -0.121931 -1.723430   \n",
       "1 -0.632572  0.064533  0.710743  ...  0.322829  0.790185 -0.101364  0.730461   \n",
       "2  0.755504 -0.141397 -2.118499  ...  0.282803  0.903183 -0.444694  0.696438   \n",
       "3 -0.103505 -0.203036 -1.241653  ...  0.256003  0.408211 -0.274815  0.028707   \n",
       "4 -0.837776 -0.057654  1.121421  ... -0.274386  0.682305  0.432717  0.722364   \n",
       "\n",
       "        V25       V26       V27       V28  Amount  Class  \n",
       "0  0.368319  0.408003 -0.031160 -0.013680   39.95      0  \n",
       "1  0.286601 -0.283233  0.059639  0.061220   92.98      0  \n",
       "2  1.153480  0.311671 -0.662353 -0.161005   29.57      0  \n",
       "3  0.743485 -0.087089 -0.054869 -0.000007   92.68      0  \n",
       "4 -1.394148  0.660007 -0.221374 -0.136090   40.00      0  \n",
       "\n",
       "[5 rows x 31 columns]"
      ]
     },
     "execution_count": 5,
     "metadata": {},
     "output_type": "execute_result"
    }
   ],
   "source": [
    "data.head()"
   ]
  },
  {
   "cell_type": "code",
   "execution_count": 6,
   "metadata": {},
   "outputs": [
    {
     "data": {
      "text/html": [
       "<div>\n",
       "<style scoped>\n",
       "    .dataframe tbody tr th:only-of-type {\n",
       "        vertical-align: middle;\n",
       "    }\n",
       "\n",
       "    .dataframe tbody tr th {\n",
       "        vertical-align: top;\n",
       "    }\n",
       "\n",
       "    .dataframe thead th {\n",
       "        text-align: right;\n",
       "    }\n",
       "</style>\n",
       "<table border=\"1\" class=\"dataframe\">\n",
       "  <thead>\n",
       "    <tr style=\"text-align: right;\">\n",
       "      <th></th>\n",
       "      <th>V1</th>\n",
       "      <th>V2</th>\n",
       "      <th>V3</th>\n",
       "      <th>V4</th>\n",
       "      <th>V5</th>\n",
       "      <th>V6</th>\n",
       "      <th>V7</th>\n",
       "      <th>V8</th>\n",
       "      <th>V9</th>\n",
       "      <th>V10</th>\n",
       "      <th>...</th>\n",
       "      <th>V21</th>\n",
       "      <th>V22</th>\n",
       "      <th>V23</th>\n",
       "      <th>V24</th>\n",
       "      <th>V25</th>\n",
       "      <th>V26</th>\n",
       "      <th>V27</th>\n",
       "      <th>V28</th>\n",
       "      <th>Amount</th>\n",
       "      <th>Class</th>\n",
       "    </tr>\n",
       "  </thead>\n",
       "  <tbody>\n",
       "    <tr>\n",
       "      <th>0</th>\n",
       "      <td>1.197490</td>\n",
       "      <td>-0.352125</td>\n",
       "      <td>-0.135904</td>\n",
       "      <td>0.222100</td>\n",
       "      <td>0.231128</td>\n",
       "      <td>1.086617</td>\n",
       "      <td>-0.420363</td>\n",
       "      <td>0.391464</td>\n",
       "      <td>0.672499</td>\n",
       "      <td>-0.058119</td>\n",
       "      <td>...</td>\n",
       "      <td>-0.337999</td>\n",
       "      <td>-0.963921</td>\n",
       "      <td>-0.121931</td>\n",
       "      <td>-1.723430</td>\n",
       "      <td>0.368319</td>\n",
       "      <td>0.408003</td>\n",
       "      <td>-0.031160</td>\n",
       "      <td>-0.013680</td>\n",
       "      <td>39.95</td>\n",
       "      <td>0</td>\n",
       "    </tr>\n",
       "    <tr>\n",
       "      <th>1</th>\n",
       "      <td>0.976047</td>\n",
       "      <td>-0.289947</td>\n",
       "      <td>1.465321</td>\n",
       "      <td>1.300002</td>\n",
       "      <td>-1.382887</td>\n",
       "      <td>-0.479586</td>\n",
       "      <td>-0.632572</td>\n",
       "      <td>0.064533</td>\n",
       "      <td>0.710743</td>\n",
       "      <td>-0.093670</td>\n",
       "      <td>...</td>\n",
       "      <td>0.322829</td>\n",
       "      <td>0.790185</td>\n",
       "      <td>-0.101364</td>\n",
       "      <td>0.730461</td>\n",
       "      <td>0.286601</td>\n",
       "      <td>-0.283233</td>\n",
       "      <td>0.059639</td>\n",
       "      <td>0.061220</td>\n",
       "      <td>92.98</td>\n",
       "      <td>0</td>\n",
       "    </tr>\n",
       "    <tr>\n",
       "      <th>2</th>\n",
       "      <td>-1.395302</td>\n",
       "      <td>0.478266</td>\n",
       "      <td>-0.584911</td>\n",
       "      <td>-1.201527</td>\n",
       "      <td>0.928544</td>\n",
       "      <td>-0.743618</td>\n",
       "      <td>0.755504</td>\n",
       "      <td>-0.141397</td>\n",
       "      <td>-2.118499</td>\n",
       "      <td>0.182768</td>\n",
       "      <td>...</td>\n",
       "      <td>0.282803</td>\n",
       "      <td>0.903183</td>\n",
       "      <td>-0.444694</td>\n",
       "      <td>0.696438</td>\n",
       "      <td>1.153480</td>\n",
       "      <td>0.311671</td>\n",
       "      <td>-0.662353</td>\n",
       "      <td>-0.161005</td>\n",
       "      <td>29.57</td>\n",
       "      <td>0</td>\n",
       "    </tr>\n",
       "    <tr>\n",
       "      <th>3</th>\n",
       "      <td>1.276014</td>\n",
       "      <td>-0.672705</td>\n",
       "      <td>-0.425494</td>\n",
       "      <td>-0.777398</td>\n",
       "      <td>-0.582088</td>\n",
       "      <td>-0.880396</td>\n",
       "      <td>-0.103505</td>\n",
       "      <td>-0.203036</td>\n",
       "      <td>-1.241653</td>\n",
       "      <td>0.849479</td>\n",
       "      <td>...</td>\n",
       "      <td>0.256003</td>\n",
       "      <td>0.408211</td>\n",
       "      <td>-0.274815</td>\n",
       "      <td>0.028707</td>\n",
       "      <td>0.743485</td>\n",
       "      <td>-0.087089</td>\n",
       "      <td>-0.054869</td>\n",
       "      <td>-0.000007</td>\n",
       "      <td>92.68</td>\n",
       "      <td>0</td>\n",
       "    </tr>\n",
       "    <tr>\n",
       "      <th>4</th>\n",
       "      <td>-0.312745</td>\n",
       "      <td>-1.202565</td>\n",
       "      <td>2.249806</td>\n",
       "      <td>-0.297210</td>\n",
       "      <td>-0.963389</td>\n",
       "      <td>1.207532</td>\n",
       "      <td>-0.837776</td>\n",
       "      <td>-0.057654</td>\n",
       "      <td>1.121421</td>\n",
       "      <td>0.744263</td>\n",
       "      <td>...</td>\n",
       "      <td>-0.274386</td>\n",
       "      <td>0.682305</td>\n",
       "      <td>0.432717</td>\n",
       "      <td>0.722364</td>\n",
       "      <td>-1.394148</td>\n",
       "      <td>0.660007</td>\n",
       "      <td>-0.221374</td>\n",
       "      <td>-0.136090</td>\n",
       "      <td>40.00</td>\n",
       "      <td>0</td>\n",
       "    </tr>\n",
       "  </tbody>\n",
       "</table>\n",
       "<p>5 rows × 30 columns</p>\n",
       "</div>"
      ],
      "text/plain": [
       "         V1        V2        V3        V4        V5        V6        V7  \\\n",
       "0  1.197490 -0.352125 -0.135904  0.222100  0.231128  1.086617 -0.420363   \n",
       "1  0.976047 -0.289947  1.465321  1.300002 -1.382887 -0.479586 -0.632572   \n",
       "2 -1.395302  0.478266 -0.584911 -1.201527  0.928544 -0.743618  0.755504   \n",
       "3  1.276014 -0.672705 -0.425494 -0.777398 -0.582088 -0.880396 -0.103505   \n",
       "4 -0.312745 -1.202565  2.249806 -0.297210 -0.963389  1.207532 -0.837776   \n",
       "\n",
       "         V8        V9       V10  ...       V21       V22       V23       V24  \\\n",
       "0  0.391464  0.672499 -0.058119  ... -0.337999 -0.963921 -0.121931 -1.723430   \n",
       "1  0.064533  0.710743 -0.093670  ...  0.322829  0.790185 -0.101364  0.730461   \n",
       "2 -0.141397 -2.118499  0.182768  ...  0.282803  0.903183 -0.444694  0.696438   \n",
       "3 -0.203036 -1.241653  0.849479  ...  0.256003  0.408211 -0.274815  0.028707   \n",
       "4 -0.057654  1.121421  0.744263  ... -0.274386  0.682305  0.432717  0.722364   \n",
       "\n",
       "        V25       V26       V27       V28  Amount  Class  \n",
       "0  0.368319  0.408003 -0.031160 -0.013680   39.95      0  \n",
       "1  0.286601 -0.283233  0.059639  0.061220   92.98      0  \n",
       "2  1.153480  0.311671 -0.662353 -0.161005   29.57      0  \n",
       "3  0.743485 -0.087089 -0.054869 -0.000007   92.68      0  \n",
       "4 -1.394148  0.660007 -0.221374 -0.136090   40.00      0  \n",
       "\n",
       "[5 rows x 30 columns]"
      ]
     },
     "execution_count": 6,
     "metadata": {},
     "output_type": "execute_result"
    }
   ],
   "source": [
    "data = data.drop(['Time'],axis=1)\n",
    "data.head()"
   ]
  },
  {
   "cell_type": "code",
   "execution_count": 7,
   "metadata": {},
   "outputs": [],
   "source": [
    "shuffled_df = data.sample(frac=1,random_state=4)"
   ]
  },
  {
   "cell_type": "code",
   "execution_count": 8,
   "metadata": {},
   "outputs": [],
   "source": [
    "fraud_df = shuffled_df.loc[shuffled_df['Class'] == 1]\n",
    "non_fraud_df = shuffled_df.loc[shuffled_df['Class'] == 0].sample(n=492,random_state=42)"
   ]
  },
  {
   "cell_type": "code",
   "execution_count": 9,
   "metadata": {},
   "outputs": [],
   "source": [
    "data = pd.concat([fraud_df, non_fraud_df])"
   ]
  },
  {
   "cell_type": "markdown",
   "metadata": {},
   "source": [
    "# Classes After Blanced"
   ]
  },
  {
   "cell_type": "code",
   "execution_count": 10,
   "metadata": {},
   "outputs": [
    {
     "data": {
      "image/png": "[encoded data removed]",
      "text/plain": [
       "<Figure size 576x576 with 1 Axes>"
      ]
     },
     "metadata": {
      "needs_background": "light"
     },
     "output_type": "display_data"
    }
   ],
   "source": [
    "plt.figure(figsize=(8, 8))\n",
    "sns.countplot('Class', data=data)\n",
    "plt.title('Balanced Classes')\n",
    "plt.show()"
   ]
  },
  {
   "cell_type": "code",
   "execution_count": 11,
   "metadata": {},
   "outputs": [
    {
     "data": {
      "text/html": [
       "<div>\n",
       "<style scoped>\n",
       "    .dataframe tbody tr th:only-of-type {\n",
       "        vertical-align: middle;\n",
       "    }\n",
       "\n",
       "    .dataframe tbody tr th {\n",
       "        vertical-align: top;\n",
       "    }\n",
       "\n",
       "    .dataframe thead th {\n",
       "        text-align: right;\n",
       "    }\n",
       "</style>\n",
       "<table border=\"1\" class=\"dataframe\">\n",
       "  <thead>\n",
       "    <tr style=\"text-align: right;\">\n",
       "      <th></th>\n",
       "      <th>V1</th>\n",
       "      <th>V2</th>\n",
       "      <th>V3</th>\n",
       "      <th>V4</th>\n",
       "      <th>V5</th>\n",
       "      <th>V6</th>\n",
       "      <th>V7</th>\n",
       "      <th>V8</th>\n",
       "      <th>V9</th>\n",
       "      <th>V10</th>\n",
       "      <th>...</th>\n",
       "      <th>V21</th>\n",
       "      <th>V22</th>\n",
       "      <th>V23</th>\n",
       "      <th>V24</th>\n",
       "      <th>V25</th>\n",
       "      <th>V26</th>\n",
       "      <th>V27</th>\n",
       "      <th>V28</th>\n",
       "      <th>Amount</th>\n",
       "      <th>Class</th>\n",
       "    </tr>\n",
       "  </thead>\n",
       "  <tbody>\n",
       "    <tr>\n",
       "      <th>138947</th>\n",
       "      <td>-0.848290</td>\n",
       "      <td>2.719882</td>\n",
       "      <td>-6.199070</td>\n",
       "      <td>3.044437</td>\n",
       "      <td>-3.301910</td>\n",
       "      <td>-1.992117</td>\n",
       "      <td>-3.734902</td>\n",
       "      <td>1.520079</td>\n",
       "      <td>-2.548788</td>\n",
       "      <td>-4.533515</td>\n",
       "      <td>...</td>\n",
       "      <td>1.125229</td>\n",
       "      <td>0.805258</td>\n",
       "      <td>0.199119</td>\n",
       "      <td>0.035206</td>\n",
       "      <td>0.012159</td>\n",
       "      <td>0.601658</td>\n",
       "      <td>0.137468</td>\n",
       "      <td>-0.171397</td>\n",
       "      <td>127.14</td>\n",
       "      <td>1</td>\n",
       "    </tr>\n",
       "    <tr>\n",
       "      <th>59256</th>\n",
       "      <td>-26.457745</td>\n",
       "      <td>16.497472</td>\n",
       "      <td>-30.177317</td>\n",
       "      <td>8.904157</td>\n",
       "      <td>-17.892600</td>\n",
       "      <td>-1.227904</td>\n",
       "      <td>-31.197329</td>\n",
       "      <td>-11.438920</td>\n",
       "      <td>-9.462573</td>\n",
       "      <td>-22.187089</td>\n",
       "      <td>...</td>\n",
       "      <td>-8.755698</td>\n",
       "      <td>3.460893</td>\n",
       "      <td>0.896538</td>\n",
       "      <td>0.254836</td>\n",
       "      <td>-0.738097</td>\n",
       "      <td>-0.966564</td>\n",
       "      <td>-7.263482</td>\n",
       "      <td>-1.324884</td>\n",
       "      <td>1.00</td>\n",
       "      <td>1</td>\n",
       "    </tr>\n",
       "    <tr>\n",
       "      <th>165341</th>\n",
       "      <td>-5.976119</td>\n",
       "      <td>-7.196980</td>\n",
       "      <td>-5.388316</td>\n",
       "      <td>5.104799</td>\n",
       "      <td>4.676533</td>\n",
       "      <td>-5.566870</td>\n",
       "      <td>-4.291180</td>\n",
       "      <td>0.876531</td>\n",
       "      <td>-1.075478</td>\n",
       "      <td>-3.272569</td>\n",
       "      <td>...</td>\n",
       "      <td>1.459369</td>\n",
       "      <td>-0.136262</td>\n",
       "      <td>0.848177</td>\n",
       "      <td>-0.269916</td>\n",
       "      <td>-1.095060</td>\n",
       "      <td>-0.710905</td>\n",
       "      <td>0.565846</td>\n",
       "      <td>-1.034107</td>\n",
       "      <td>296.00</td>\n",
       "      <td>1</td>\n",
       "    </tr>\n",
       "    <tr>\n",
       "      <th>179447</th>\n",
       "      <td>0.232512</td>\n",
       "      <td>0.938944</td>\n",
       "      <td>-4.647780</td>\n",
       "      <td>3.079844</td>\n",
       "      <td>-1.902655</td>\n",
       "      <td>-1.041408</td>\n",
       "      <td>-1.020407</td>\n",
       "      <td>0.547069</td>\n",
       "      <td>-1.105990</td>\n",
       "      <td>-3.520128</td>\n",
       "      <td>...</td>\n",
       "      <td>0.911373</td>\n",
       "      <td>1.042929</td>\n",
       "      <td>0.999394</td>\n",
       "      <td>0.901260</td>\n",
       "      <td>-0.452093</td>\n",
       "      <td>0.192959</td>\n",
       "      <td>0.180859</td>\n",
       "      <td>-0.029315</td>\n",
       "      <td>345.00</td>\n",
       "      <td>1</td>\n",
       "    </tr>\n",
       "    <tr>\n",
       "      <th>115004</th>\n",
       "      <td>-1.541678</td>\n",
       "      <td>3.846800</td>\n",
       "      <td>-7.604114</td>\n",
       "      <td>3.121459</td>\n",
       "      <td>-1.254924</td>\n",
       "      <td>-2.084875</td>\n",
       "      <td>-2.385027</td>\n",
       "      <td>1.471140</td>\n",
       "      <td>-2.530507</td>\n",
       "      <td>-5.175660</td>\n",
       "      <td>...</td>\n",
       "      <td>1.096405</td>\n",
       "      <td>1.064222</td>\n",
       "      <td>0.065370</td>\n",
       "      <td>0.257209</td>\n",
       "      <td>-0.693654</td>\n",
       "      <td>-0.335702</td>\n",
       "      <td>0.577052</td>\n",
       "      <td>0.398348</td>\n",
       "      <td>122.68</td>\n",
       "      <td>1</td>\n",
       "    </tr>\n",
       "  </tbody>\n",
       "</table>\n",
       "<p>5 rows × 30 columns</p>\n",
       "</div>"
      ],
      "text/plain": [
       "               V1         V2         V3        V4         V5        V6  \\\n",
       "138947  -0.848290   2.719882  -6.199070  3.044437  -3.301910 -1.992117   \n",
       "59256  -26.457745  16.497472 -30.177317  8.904157 -17.892600 -1.227904   \n",
       "165341  -5.976119  -7.196980  -5.388316  5.104799   4.676533 -5.566870   \n",
       "179447   0.232512   0.938944  -4.647780  3.079844  -1.902655 -1.041408   \n",
       "115004  -1.541678   3.846800  -7.604114  3.121459  -1.254924 -2.084875   \n",
       "\n",
       "               V7         V8        V9        V10  ...       V21       V22  \\\n",
       "138947  -3.734902   1.520079 -2.548788  -4.533515  ...  1.125229  0.805258   \n",
       "59256  -31.197329 -11.438920 -9.462573 -22.187089  ... -8.755698  3.460893   \n",
       "165341  -4.291180   0.876531 -1.075478  -3.272569  ...  1.459369 -0.136262   \n",
       "179447  -1.020407   0.547069 -1.105990  -3.520128  ...  0.911373  1.042929   \n",
       "115004  -2.385027   1.471140 -2.530507  -5.175660  ...  1.096405  1.064222   \n",
       "\n",
       "             V23       V24       V25       V26       V27       V28  Amount  \\\n",
       "138947  0.199119  0.035206  0.012159  0.601658  0.137468 -0.171397  127.14   \n",
       "59256   0.896538  0.254836 -0.738097 -0.966564 -7.263482 -1.324884    1.00   \n",
       "165341  0.848177 -0.269916 -1.095060 -0.710905  0.565846 -1.034107  296.00   \n",
       "179447  0.999394  0.901260 -0.452093  0.192959  0.180859 -0.029315  345.00   \n",
       "115004  0.065370  0.257209 -0.693654 -0.335702  0.577052  0.398348  122.68   \n",
       "\n",
       "        Class  \n",
       "138947      1  \n",
       "59256       1  \n",
       "165341      1  \n",
       "179447      1  \n",
       "115004      1  \n",
       "\n",
       "[5 rows x 30 columns]"
      ]
     },
     "execution_count": 11,
     "metadata": {},
     "output_type": "execute_result"
    }
   ],
   "source": [
    "data.head()"
   ]
  },
  {
   "cell_type": "code",
   "execution_count": 12,
   "metadata": {},
   "outputs": [],
   "source": [
    "X=data.iloc[:,data.columns!='Class']\n",
    "y=data.iloc[:,data.columns=='Class']"
   ]
  },
  {
   "cell_type": "code",
   "execution_count": 13,
   "metadata": {},
   "outputs": [
    {
     "data": {
      "text/html": [
       "<div>\n",
       "<style scoped>\n",
       "    .dataframe tbody tr th:only-of-type {\n",
       "        vertical-align: middle;\n",
       "    }\n",
       "\n",
       "    .dataframe tbody tr th {\n",
       "        vertical-align: top;\n",
       "    }\n",
       "\n",
       "    .dataframe thead th {\n",
       "        text-align: right;\n",
       "    }\n",
       "</style>\n",
       "<table border=\"1\" class=\"dataframe\">\n",
       "  <thead>\n",
       "    <tr style=\"text-align: right;\">\n",
       "      <th></th>\n",
       "      <th>V1</th>\n",
       "      <th>V2</th>\n",
       "      <th>V3</th>\n",
       "      <th>V4</th>\n",
       "      <th>V5</th>\n",
       "      <th>V6</th>\n",
       "      <th>V7</th>\n",
       "      <th>V8</th>\n",
       "      <th>V9</th>\n",
       "      <th>V10</th>\n",
       "      <th>...</th>\n",
       "      <th>V20</th>\n",
       "      <th>V21</th>\n",
       "      <th>V22</th>\n",
       "      <th>V23</th>\n",
       "      <th>V24</th>\n",
       "      <th>V25</th>\n",
       "      <th>V26</th>\n",
       "      <th>V27</th>\n",
       "      <th>V28</th>\n",
       "      <th>Amount</th>\n",
       "    </tr>\n",
       "  </thead>\n",
       "  <tbody>\n",
       "    <tr>\n",
       "      <th>138947</th>\n",
       "      <td>-0.848290</td>\n",
       "      <td>2.719882</td>\n",
       "      <td>-6.199070</td>\n",
       "      <td>3.044437</td>\n",
       "      <td>-3.301910</td>\n",
       "      <td>-1.992117</td>\n",
       "      <td>-3.734902</td>\n",
       "      <td>1.520079</td>\n",
       "      <td>-2.548788</td>\n",
       "      <td>-4.533515</td>\n",
       "      <td>...</td>\n",
       "      <td>0.319576</td>\n",
       "      <td>1.125229</td>\n",
       "      <td>0.805258</td>\n",
       "      <td>0.199119</td>\n",
       "      <td>0.035206</td>\n",
       "      <td>0.012159</td>\n",
       "      <td>0.601658</td>\n",
       "      <td>0.137468</td>\n",
       "      <td>-0.171397</td>\n",
       "      <td>127.14</td>\n",
       "    </tr>\n",
       "    <tr>\n",
       "      <th>59256</th>\n",
       "      <td>-26.457745</td>\n",
       "      <td>16.497472</td>\n",
       "      <td>-30.177317</td>\n",
       "      <td>8.904157</td>\n",
       "      <td>-17.892600</td>\n",
       "      <td>-1.227904</td>\n",
       "      <td>-31.197329</td>\n",
       "      <td>-11.438920</td>\n",
       "      <td>-9.462573</td>\n",
       "      <td>-22.187089</td>\n",
       "      <td>...</td>\n",
       "      <td>2.812241</td>\n",
       "      <td>-8.755698</td>\n",
       "      <td>3.460893</td>\n",
       "      <td>0.896538</td>\n",
       "      <td>0.254836</td>\n",
       "      <td>-0.738097</td>\n",
       "      <td>-0.966564</td>\n",
       "      <td>-7.263482</td>\n",
       "      <td>-1.324884</td>\n",
       "      <td>1.00</td>\n",
       "    </tr>\n",
       "    <tr>\n",
       "      <th>165341</th>\n",
       "      <td>-5.976119</td>\n",
       "      <td>-7.196980</td>\n",
       "      <td>-5.388316</td>\n",
       "      <td>5.104799</td>\n",
       "      <td>4.676533</td>\n",
       "      <td>-5.566870</td>\n",
       "      <td>-4.291180</td>\n",
       "      <td>0.876531</td>\n",
       "      <td>-1.075478</td>\n",
       "      <td>-3.272569</td>\n",
       "      <td>...</td>\n",
       "      <td>3.136338</td>\n",
       "      <td>1.459369</td>\n",
       "      <td>-0.136262</td>\n",
       "      <td>0.848177</td>\n",
       "      <td>-0.269916</td>\n",
       "      <td>-1.095060</td>\n",
       "      <td>-0.710905</td>\n",
       "      <td>0.565846</td>\n",
       "      <td>-1.034107</td>\n",
       "      <td>296.00</td>\n",
       "    </tr>\n",
       "    <tr>\n",
       "      <th>179447</th>\n",
       "      <td>0.232512</td>\n",
       "      <td>0.938944</td>\n",
       "      <td>-4.647780</td>\n",
       "      <td>3.079844</td>\n",
       "      <td>-1.902655</td>\n",
       "      <td>-1.041408</td>\n",
       "      <td>-1.020407</td>\n",
       "      <td>0.547069</td>\n",
       "      <td>-1.105990</td>\n",
       "      <td>-3.520128</td>\n",
       "      <td>...</td>\n",
       "      <td>1.141615</td>\n",
       "      <td>0.911373</td>\n",
       "      <td>1.042929</td>\n",
       "      <td>0.999394</td>\n",
       "      <td>0.901260</td>\n",
       "      <td>-0.452093</td>\n",
       "      <td>0.192959</td>\n",
       "      <td>0.180859</td>\n",
       "      <td>-0.029315</td>\n",
       "      <td>345.00</td>\n",
       "    </tr>\n",
       "    <tr>\n",
       "      <th>115004</th>\n",
       "      <td>-1.541678</td>\n",
       "      <td>3.846800</td>\n",
       "      <td>-7.604114</td>\n",
       "      <td>3.121459</td>\n",
       "      <td>-1.254924</td>\n",
       "      <td>-2.084875</td>\n",
       "      <td>-2.385027</td>\n",
       "      <td>1.471140</td>\n",
       "      <td>-2.530507</td>\n",
       "      <td>-5.175660</td>\n",
       "      <td>...</td>\n",
       "      <td>0.114760</td>\n",
       "      <td>1.096405</td>\n",
       "      <td>1.064222</td>\n",
       "      <td>0.065370</td>\n",
       "      <td>0.257209</td>\n",
       "      <td>-0.693654</td>\n",
       "      <td>-0.335702</td>\n",
       "      <td>0.577052</td>\n",
       "      <td>0.398348</td>\n",
       "      <td>122.68</td>\n",
       "    </tr>\n",
       "  </tbody>\n",
       "</table>\n",
       "<p>5 rows × 29 columns</p>\n",
       "</div>"
      ],
      "text/plain": [
       "               V1         V2         V3        V4         V5        V6  \\\n",
       "138947  -0.848290   2.719882  -6.199070  3.044437  -3.301910 -1.992117   \n",
       "59256  -26.457745  16.497472 -30.177317  8.904157 -17.892600 -1.227904   \n",
       "165341  -5.976119  -7.196980  -5.388316  5.104799   4.676533 -5.566870   \n",
       "179447   0.232512   0.938944  -4.647780  3.079844  -1.902655 -1.041408   \n",
       "115004  -1.541678   3.846800  -7.604114  3.121459  -1.254924 -2.084875   \n",
       "\n",
       "               V7         V8        V9        V10  ...       V20       V21  \\\n",
       "138947  -3.734902   1.520079 -2.548788  -4.533515  ...  0.319576  1.125229   \n",
       "59256  -31.197329 -11.438920 -9.462573 -22.187089  ...  2.812241 -8.755698   \n",
       "165341  -4.291180   0.876531 -1.075478  -3.272569  ...  3.136338  1.459369   \n",
       "179447  -1.020407   0.547069 -1.105990  -3.520128  ...  1.141615  0.911373   \n",
       "115004  -2.385027   1.471140 -2.530507  -5.175660  ...  0.114760  1.096405   \n",
       "\n",
       "             V22       V23       V24       V25       V26       V27       V28  \\\n",
       "138947  0.805258  0.199119  0.035206  0.012159  0.601658  0.137468 -0.171397   \n",
       "59256   3.460893  0.896538  0.254836 -0.738097 -0.966564 -7.263482 -1.324884   \n",
       "165341 -0.136262  0.848177 -0.269916 -1.095060 -0.710905  0.565846 -1.034107   \n",
       "179447  1.042929  0.999394  0.901260 -0.452093  0.192959  0.180859 -0.029315   \n",
       "115004  1.064222  0.065370  0.257209 -0.693654 -0.335702  0.577052  0.398348   \n",
       "\n",
       "        Amount  \n",
       "138947  127.14  \n",
       "59256     1.00  \n",
       "165341  296.00  \n",
       "179447  345.00  \n",
       "115004  122.68  \n",
       "\n",
       "[5 rows x 29 columns]"
      ]
     },
     "execution_count": 13,
     "metadata": {},
     "output_type": "execute_result"
    }
   ],
   "source": [
    "X.head()"
   ]
  },
  {
   "cell_type": "code",
   "execution_count": 14,
   "metadata": {},
   "outputs": [
    {
     "data": {
      "text/html": [
       "<div>\n",
       "<style scoped>\n",
       "    .dataframe tbody tr th:only-of-type {\n",
       "        vertical-align: middle;\n",
       "    }\n",
       "\n",
       "    .dataframe tbody tr th {\n",
       "        vertical-align: top;\n",
       "    }\n",
       "\n",
       "    .dataframe thead th {\n",
       "        text-align: right;\n",
       "    }\n",
       "</style>\n",
       "<table border=\"1\" class=\"dataframe\">\n",
       "  <thead>\n",
       "    <tr style=\"text-align: right;\">\n",
       "      <th></th>\n",
       "      <th>Class</th>\n",
       "    </tr>\n",
       "  </thead>\n",
       "  <tbody>\n",
       "    <tr>\n",
       "      <th>138947</th>\n",
       "      <td>1</td>\n",
       "    </tr>\n",
       "    <tr>\n",
       "      <th>59256</th>\n",
       "      <td>1</td>\n",
       "    </tr>\n",
       "    <tr>\n",
       "      <th>165341</th>\n",
       "      <td>1</td>\n",
       "    </tr>\n",
       "    <tr>\n",
       "      <th>179447</th>\n",
       "      <td>1</td>\n",
       "    </tr>\n",
       "    <tr>\n",
       "      <th>115004</th>\n",
       "      <td>1</td>\n",
       "    </tr>\n",
       "  </tbody>\n",
       "</table>\n",
       "</div>"
      ],
      "text/plain": [
       "        Class\n",
       "138947      1\n",
       "59256       1\n",
       "165341      1\n",
       "179447      1\n",
       "115004      1"
      ]
     },
     "execution_count": 14,
     "metadata": {},
     "output_type": "execute_result"
    }
   ],
   "source": [
    "y.head()"
   ]
  },
  {
   "cell_type": "code",
   "execution_count": 15,
   "metadata": {},
   "outputs": [],
   "source": [
    "from sklearn.model_selection import train_test_split\n",
    "X_train, X_test, y_train, y_test = train_test_split(X,y, test_size = 0.3, random_state=0)"
   ]
  },
  {
   "cell_type": "code",
   "execution_count": 16,
   "metadata": {},
   "outputs": [
    {
     "data": {
      "text/plain": [
       "(550, 29)"
      ]
     },
     "execution_count": 16,
     "metadata": {},
     "output_type": "execute_result"
    }
   ],
   "source": [
    "X_train.shape"
   ]
  },
  {
   "cell_type": "code",
   "execution_count": 17,
   "metadata": {},
   "outputs": [
    {
     "data": {
      "text/plain": [
       "(237, 29)"
      ]
     },
     "execution_count": 17,
     "metadata": {},
     "output_type": "execute_result"
    }
   ],
   "source": [
    "X_test.shape"
   ]
  },
  {
   "cell_type": "markdown",
   "metadata": {},
   "source": [
    "# SVM"
   ]
  },
  {
   "cell_type": "code",
   "execution_count": 18,
   "metadata": {},
   "outputs": [],
   "source": [
    "from sklearn import svm"
   ]
  },
  {
   "cell_type": "code",
   "execution_count": 19,
   "metadata": {},
   "outputs": [],
   "source": [
    "support = svm.LinearSVC(random_state=20)"
   ]
  },
  {
   "cell_type": "code",
   "execution_count": 20,
   "metadata": {},
   "outputs": [
    {
     "data": {
      "text/plain": [
       "LinearSVC(C=1.0, class_weight=None, dual=True, fit_intercept=True,\n",
       "          intercept_scaling=1, loss='squared_hinge', max_iter=1000,\n",
       "          multi_class='ovr', penalty='l2', random_state=20, tol=0.0001,\n",
       "          verbose=0)"
      ]
     },
     "execution_count": 20,
     "metadata": {},
     "output_type": "execute_result"
    }
   ],
   "source": [
    "support.fit(X_train,y_train)"
   ]
  },
  {
   "cell_type": "code",
   "execution_count": 21,
   "metadata": {},
   "outputs": [],
   "source": [
    "y_pred = support.predict(X_test)"
   ]
  },
  {
   "cell_type": "code",
   "execution_count": 22,
   "metadata": {},
   "outputs": [
    {
     "name": "stdout",
     "output_type": "stream",
     "text": [
      "0.9240506329113924\n"
     ]
    }
   ],
   "source": [
    "model1=metrics.accuracy_score(y_test,y_pred)\n",
    "print(model1)"
   ]
  },
  {
   "cell_type": "code",
   "execution_count": 23,
   "metadata": {},
   "outputs": [],
   "source": [
    "cnf_matrix = confusion_matrix(y_test,y_pred)"
   ]
  },
  {
   "cell_type": "code",
   "execution_count": 24,
   "metadata": {},
   "outputs": [],
   "source": [
    "#ig, ax = plot_confusion_matrix(conf_mat=cnf_matrix)\n",
    "#plt.show()"
   ]
  },
  {
   "cell_type": "markdown",
   "metadata": {},
   "source": [
    "# Decision Tree"
   ]
  },
  {
   "cell_type": "code",
   "execution_count": 25,
   "metadata": {},
   "outputs": [],
   "source": [
    "from sklearn.tree import DecisionTreeClassifier "
   ]
  },
  {
   "cell_type": "code",
   "execution_count": 26,
   "metadata": {},
   "outputs": [],
   "source": [
    "tree = DecisionTreeClassifier() "
   ]
  },
  {
   "cell_type": "code",
   "execution_count": 27,
   "metadata": {},
   "outputs": [
    {
     "data": {
      "text/plain": [
       "DecisionTreeClassifier(class_weight=None, criterion='gini', max_depth=None,\n",
       "                       max_features=None, max_leaf_nodes=None,\n",
       "                       min_impurity_decrease=0.0, min_impurity_split=None,\n",
       "                       min_samples_leaf=1, min_samples_split=2,\n",
       "                       min_weight_fraction_leaf=0.0, presort=False,\n",
       "                       random_state=None, splitter='best')"
      ]
     },
     "execution_count": 27,
     "metadata": {},
     "output_type": "execute_result"
    }
   ],
   "source": [
    "tree.fit(X_train,y_train)"
   ]
  },
  {
   "cell_type": "code",
   "execution_count": 28,
   "metadata": {},
   "outputs": [],
   "source": [
    "y_pred = tree.predict(X_test)"
   ]
  },
  {
   "cell_type": "code",
   "execution_count": 29,
   "metadata": {},
   "outputs": [
    {
     "name": "stdout",
     "output_type": "stream",
     "text": [
      "0.9240506329113924\n"
     ]
    }
   ],
   "source": [
    "model2=metrics.accuracy_score(y_test,y_pred)\n",
    "print(model2)"
   ]
  },
  {
   "cell_type": "code",
   "execution_count": 30,
   "metadata": {},
   "outputs": [],
   "source": [
    "cnf_matrix = confusion_matrix(y_test,y_pred)"
   ]
  },
  {
   "cell_type": "code",
   "execution_count": 31,
   "metadata": {},
   "outputs": [],
   "source": [
    "#ig, ax = plot_confusion_matrix(conf_mat=cnf_matrix)\n",
    "#plt.show()"
   ]
  },
  {
   "cell_type": "markdown",
   "metadata": {},
   "source": [
    "# AdaBoost (Adaptive Boosting)"
   ]
  },
  {
   "cell_type": "code",
   "execution_count": 32,
   "metadata": {},
   "outputs": [],
   "source": [
    "from sklearn.ensemble import AdaBoostClassifier"
   ]
  },
  {
   "cell_type": "code",
   "execution_count": 33,
   "metadata": {},
   "outputs": [],
   "source": [
    "boost = AdaBoostClassifier(n_estimators=100, base_estimator=tree,learning_rate=1)"
   ]
  },
  {
   "cell_type": "code",
   "execution_count": 34,
   "metadata": {},
   "outputs": [
    {
     "data": {
      "text/plain": [
       "AdaBoostClassifier(algorithm='SAMME.R',\n",
       "                   base_estimator=DecisionTreeClassifier(class_weight=None,\n",
       "                                                         criterion='gini',\n",
       "                                                         max_depth=None,\n",
       "                                                         max_features=None,\n",
       "                                                         max_leaf_nodes=None,\n",
       "                                                         min_impurity_decrease=0.0,\n",
       "                                                         min_impurity_split=None,\n",
       "                                                         min_samples_leaf=1,\n",
       "                                                         min_samples_split=2,\n",
       "                                                         min_weight_fraction_leaf=0.0,\n",
       "                                                         presort=False,\n",
       "                                                         random_state=None,\n",
       "                                                         splitter='best'),\n",
       "                   learning_rate=1, n_estimators=100, random_state=None)"
      ]
     },
     "execution_count": 34,
     "metadata": {},
     "output_type": "execute_result"
    }
   ],
   "source": [
    "boost.fit(X_train,y_train)"
   ]
  },
  {
   "cell_type": "code",
   "execution_count": 35,
   "metadata": {},
   "outputs": [],
   "source": [
    "y_pred = boost.predict(X_test)"
   ]
  },
  {
   "cell_type": "code",
   "execution_count": 36,
   "metadata": {},
   "outputs": [
    {
     "name": "stdout",
     "output_type": "stream",
     "text": [
      "0.9156118143459916\n"
     ]
    }
   ],
   "source": [
    "model3=metrics.accuracy_score(y_test,y_pred)\n",
    "print(model3)"
   ]
  },
  {
   "cell_type": "code",
   "execution_count": 37,
   "metadata": {},
   "outputs": [],
   "source": [
    "cnf_matrix = confusion_matrix(y_test,y_pred)"
   ]
  },
  {
   "cell_type": "code",
   "execution_count": 38,
   "metadata": {},
   "outputs": [],
   "source": [
    "#ig, ax = plot_confusion_matrix(conf_mat=cnf_matrix)\n",
    "#plt.show()"
   ]
  },
  {
   "cell_type": "code",
   "execution_count": 39,
   "metadata": {},
   "outputs": [
    {
     "data": {
      "image/png": "[encoded data removed]",
      "text/plain": [
       "<Figure size 640x480 with 1 Axes>"
      ]
     },
     "metadata": {},
     "output_type": "display_data"
    }
   ],
   "source": [
    "import matplotlib.pyplot as plt; plt.rcdefaults()\n",
    "\n",
    "objects = ('Support Vector','Decision Tree' ,'AdaBoost')\n",
    "y_pos = np.arange(len(objects))\n",
    "performance = [model1,model2,model3]\n",
    "\n",
    "plt.bar(y_pos, performance, align='center', alpha=0.5)\n",
    "plt.xticks(y_pos, objects)\n",
    "plt.ylabel('Accuracy')\n",
    "plt.title('SVM vs Decision Tree vs AdaBoost')\n",
    "\n",
    "plt.show()"
   ]
  },
  {
   "cell_type": "markdown",
   "metadata": {},
   "source": [
    "# 1. Univariate Selection"
   ]
  },
  {
   "cell_type": "code",
   "execution_count": 40,
   "metadata": {},
   "outputs": [],
   "source": [
    "from sklearn.feature_selection import SelectKBest\n",
    "from sklearn.feature_selection import chi2"
   ]
  },
  {
   "cell_type": "code",
   "execution_count": 41,
   "metadata": {},
   "outputs": [
    {
     "data": {
      "text/html": [
       "<div>\n",
       "<style scoped>\n",
       "    .dataframe tbody tr th:only-of-type {\n",
       "        vertical-align: middle;\n",
       "    }\n",
       "\n",
       "    .dataframe tbody tr th {\n",
       "        vertical-align: top;\n",
       "    }\n",
       "\n",
       "    .dataframe thead th {\n",
       "        text-align: right;\n",
       "    }\n",
       "</style>\n",
       "<table border=\"1\" class=\"dataframe\">\n",
       "  <thead>\n",
       "    <tr style=\"text-align: right;\">\n",
       "      <th></th>\n",
       "      <th>V1</th>\n",
       "      <th>V2</th>\n",
       "      <th>V3</th>\n",
       "      <th>V4</th>\n",
       "      <th>V5</th>\n",
       "      <th>V6</th>\n",
       "      <th>V7</th>\n",
       "      <th>V8</th>\n",
       "      <th>V9</th>\n",
       "      <th>V10</th>\n",
       "      <th>...</th>\n",
       "      <th>V21</th>\n",
       "      <th>V22</th>\n",
       "      <th>V23</th>\n",
       "      <th>V24</th>\n",
       "      <th>V25</th>\n",
       "      <th>V26</th>\n",
       "      <th>V27</th>\n",
       "      <th>V28</th>\n",
       "      <th>Amount</th>\n",
       "      <th>Class</th>\n",
       "    </tr>\n",
       "  </thead>\n",
       "  <tbody>\n",
       "    <tr>\n",
       "      <th>138947</th>\n",
       "      <td>0.848290</td>\n",
       "      <td>2.719882</td>\n",
       "      <td>6.199070</td>\n",
       "      <td>3.044437</td>\n",
       "      <td>3.301910</td>\n",
       "      <td>1.992117</td>\n",
       "      <td>3.734902</td>\n",
       "      <td>1.520079</td>\n",
       "      <td>2.548788</td>\n",
       "      <td>4.533515</td>\n",
       "      <td>...</td>\n",
       "      <td>1.125229</td>\n",
       "      <td>0.805258</td>\n",
       "      <td>0.199119</td>\n",
       "      <td>0.035206</td>\n",
       "      <td>0.012159</td>\n",
       "      <td>0.601658</td>\n",
       "      <td>0.137468</td>\n",
       "      <td>0.171397</td>\n",
       "      <td>127.14</td>\n",
       "      <td>1.0</td>\n",
       "    </tr>\n",
       "    <tr>\n",
       "      <th>59256</th>\n",
       "      <td>26.457745</td>\n",
       "      <td>16.497472</td>\n",
       "      <td>30.177317</td>\n",
       "      <td>8.904157</td>\n",
       "      <td>17.892600</td>\n",
       "      <td>1.227904</td>\n",
       "      <td>31.197329</td>\n",
       "      <td>11.438920</td>\n",
       "      <td>9.462573</td>\n",
       "      <td>22.187089</td>\n",
       "      <td>...</td>\n",
       "      <td>8.755698</td>\n",
       "      <td>3.460893</td>\n",
       "      <td>0.896538</td>\n",
       "      <td>0.254836</td>\n",
       "      <td>0.738097</td>\n",
       "      <td>0.966564</td>\n",
       "      <td>7.263482</td>\n",
       "      <td>1.324884</td>\n",
       "      <td>1.00</td>\n",
       "      <td>1.0</td>\n",
       "    </tr>\n",
       "    <tr>\n",
       "      <th>165341</th>\n",
       "      <td>5.976119</td>\n",
       "      <td>7.196980</td>\n",
       "      <td>5.388316</td>\n",
       "      <td>5.104799</td>\n",
       "      <td>4.676533</td>\n",
       "      <td>5.566870</td>\n",
       "      <td>4.291180</td>\n",
       "      <td>0.876531</td>\n",
       "      <td>1.075478</td>\n",
       "      <td>3.272569</td>\n",
       "      <td>...</td>\n",
       "      <td>1.459369</td>\n",
       "      <td>0.136262</td>\n",
       "      <td>0.848177</td>\n",
       "      <td>0.269916</td>\n",
       "      <td>1.095060</td>\n",
       "      <td>0.710905</td>\n",
       "      <td>0.565846</td>\n",
       "      <td>1.034107</td>\n",
       "      <td>296.00</td>\n",
       "      <td>1.0</td>\n",
       "    </tr>\n",
       "    <tr>\n",
       "      <th>179447</th>\n",
       "      <td>0.232512</td>\n",
       "      <td>0.938944</td>\n",
       "      <td>4.647780</td>\n",
       "      <td>3.079844</td>\n",
       "      <td>1.902655</td>\n",
       "      <td>1.041408</td>\n",
       "      <td>1.020407</td>\n",
       "      <td>0.547069</td>\n",
       "      <td>1.105990</td>\n",
       "      <td>3.520128</td>\n",
       "      <td>...</td>\n",
       "      <td>0.911373</td>\n",
       "      <td>1.042929</td>\n",
       "      <td>0.999394</td>\n",
       "      <td>0.901260</td>\n",
       "      <td>0.452093</td>\n",
       "      <td>0.192959</td>\n",
       "      <td>0.180859</td>\n",
       "      <td>0.029315</td>\n",
       "      <td>345.00</td>\n",
       "      <td>1.0</td>\n",
       "    </tr>\n",
       "    <tr>\n",
       "      <th>115004</th>\n",
       "      <td>1.541678</td>\n",
       "      <td>3.846800</td>\n",
       "      <td>7.604114</td>\n",
       "      <td>3.121459</td>\n",
       "      <td>1.254924</td>\n",
       "      <td>2.084875</td>\n",
       "      <td>2.385027</td>\n",
       "      <td>1.471140</td>\n",
       "      <td>2.530507</td>\n",
       "      <td>5.175660</td>\n",
       "      <td>...</td>\n",
       "      <td>1.096405</td>\n",
       "      <td>1.064222</td>\n",
       "      <td>0.065370</td>\n",
       "      <td>0.257209</td>\n",
       "      <td>0.693654</td>\n",
       "      <td>0.335702</td>\n",
       "      <td>0.577052</td>\n",
       "      <td>0.398348</td>\n",
       "      <td>122.68</td>\n",
       "      <td>1.0</td>\n",
       "    </tr>\n",
       "  </tbody>\n",
       "</table>\n",
       "<p>5 rows × 30 columns</p>\n",
       "</div>"
      ],
      "text/plain": [
       "               V1         V2         V3        V4         V5        V6  \\\n",
       "138947   0.848290   2.719882   6.199070  3.044437   3.301910  1.992117   \n",
       "59256   26.457745  16.497472  30.177317  8.904157  17.892600  1.227904   \n",
       "165341   5.976119   7.196980   5.388316  5.104799   4.676533  5.566870   \n",
       "179447   0.232512   0.938944   4.647780  3.079844   1.902655  1.041408   \n",
       "115004   1.541678   3.846800   7.604114  3.121459   1.254924  2.084875   \n",
       "\n",
       "               V7         V8        V9        V10  ...       V21       V22  \\\n",
       "138947   3.734902   1.520079  2.548788   4.533515  ...  1.125229  0.805258   \n",
       "59256   31.197329  11.438920  9.462573  22.187089  ...  8.755698  3.460893   \n",
       "165341   4.291180   0.876531  1.075478   3.272569  ...  1.459369  0.136262   \n",
       "179447   1.020407   0.547069  1.105990   3.520128  ...  0.911373  1.042929   \n",
       "115004   2.385027   1.471140  2.530507   5.175660  ...  1.096405  1.064222   \n",
       "\n",
       "             V23       V24       V25       V26       V27       V28  Amount  \\\n",
       "138947  0.199119  0.035206  0.012159  0.601658  0.137468  0.171397  127.14   \n",
       "59256   0.896538  0.254836  0.738097  0.966564  7.263482  1.324884    1.00   \n",
       "165341  0.848177  0.269916  1.095060  0.710905  0.565846  1.034107  296.00   \n",
       "179447  0.999394  0.901260  0.452093  0.192959  0.180859  0.029315  345.00   \n",
       "115004  0.065370  0.257209  0.693654  0.335702  0.577052  0.398348  122.68   \n",
       "\n",
       "        Class  \n",
       "138947    1.0  \n",
       "59256     1.0  \n",
       "165341    1.0  \n",
       "179447    1.0  \n",
       "115004    1.0  \n",
       "\n",
       "[5 rows x 30 columns]"
      ]
     },
     "execution_count": 41,
     "metadata": {},
     "output_type": "execute_result"
    }
   ],
   "source": [
    "df = data.abs()\n",
    "df.head()"
   ]
  },
  {
   "cell_type": "code",
   "execution_count": 42,
   "metadata": {},
   "outputs": [],
   "source": [
    "X1=df.iloc[:,data.columns!='Class']\n",
    "y1=df.iloc[:,data.columns=='Class']"
   ]
  },
  {
   "cell_type": "code",
   "execution_count": 43,
   "metadata": {},
   "outputs": [],
   "source": [
    "bestfeatures = SelectKBest(score_func=chi2, k=10)\n",
    "fit = bestfeatures.fit(X1,y1)\n",
    "dfscores = pd.DataFrame(fit.scores_)\n",
    "dfcolumns = pd.DataFrame(X.columns)"
   ]
  },
  {
   "cell_type": "code",
   "execution_count": 44,
   "metadata": {
    "scrolled": true
   },
   "outputs": [
    {
     "data": {
      "text/html": [
       "<div>\n",
       "<style scoped>\n",
       "    .dataframe tbody tr th:only-of-type {\n",
       "        vertical-align: middle;\n",
       "    }\n",
       "\n",
       "    .dataframe tbody tr th {\n",
       "        vertical-align: top;\n",
       "    }\n",
       "\n",
       "    .dataframe thead th {\n",
       "        text-align: right;\n",
       "    }\n",
       "</style>\n",
       "<table border=\"1\" class=\"dataframe\">\n",
       "  <thead>\n",
       "    <tr style=\"text-align: right;\">\n",
       "      <th></th>\n",
       "      <th>Specs</th>\n",
       "      <th>Score</th>\n",
       "    </tr>\n",
       "  </thead>\n",
       "  <tbody>\n",
       "    <tr>\n",
       "      <th>28</th>\n",
       "      <td>Amount</td>\n",
       "      <td>3447.803210</td>\n",
       "    </tr>\n",
       "    <tr>\n",
       "      <th>16</th>\n",
       "      <td>V17</td>\n",
       "      <td>2797.374970</td>\n",
       "    </tr>\n",
       "    <tr>\n",
       "      <th>13</th>\n",
       "      <td>V14</td>\n",
       "      <td>2516.587152</td>\n",
       "    </tr>\n",
       "    <tr>\n",
       "      <th>11</th>\n",
       "      <td>V12</td>\n",
       "      <td>2111.828291</td>\n",
       "    </tr>\n",
       "    <tr>\n",
       "      <th>9</th>\n",
       "      <td>V10</td>\n",
       "      <td>1905.066172</td>\n",
       "    </tr>\n",
       "    <tr>\n",
       "      <th>2</th>\n",
       "      <td>V3</td>\n",
       "      <td>1884.317715</td>\n",
       "    </tr>\n",
       "    <tr>\n",
       "      <th>6</th>\n",
       "      <td>V7</td>\n",
       "      <td>1745.035086</td>\n",
       "    </tr>\n",
       "    <tr>\n",
       "      <th>15</th>\n",
       "      <td>V16</td>\n",
       "      <td>1269.025966</td>\n",
       "    </tr>\n",
       "    <tr>\n",
       "      <th>3</th>\n",
       "      <td>V4</td>\n",
       "      <td>933.218466</td>\n",
       "    </tr>\n",
       "    <tr>\n",
       "      <th>0</th>\n",
       "      <td>V1</td>\n",
       "      <td>869.825460</td>\n",
       "    </tr>\n",
       "  </tbody>\n",
       "</table>\n",
       "</div>"
      ],
      "text/plain": [
       "     Specs        Score\n",
       "28  Amount  3447.803210\n",
       "16     V17  2797.374970\n",
       "13     V14  2516.587152\n",
       "11     V12  2111.828291\n",
       "9      V10  1905.066172\n",
       "2       V3  1884.317715\n",
       "6       V7  1745.035086\n",
       "15     V16  1269.025966\n",
       "3       V4   933.218466\n",
       "0       V1   869.825460"
      ]
     },
     "execution_count": 44,
     "metadata": {},
     "output_type": "execute_result"
    }
   ],
   "source": [
    "featureScores = pd.concat([dfcolumns,dfscores],axis=1)\n",
    "featureScores.columns = ['Specs','Score']  \n",
    "featureScores.nlargest(10,'Score')  "
   ]
  },
  {
   "cell_type": "code",
   "execution_count": 45,
   "metadata": {},
   "outputs": [
    {
     "data": {
      "text/html": [
       "<div>\n",
       "<style scoped>\n",
       "    .dataframe tbody tr th:only-of-type {\n",
       "        vertical-align: middle;\n",
       "    }\n",
       "\n",
       "    .dataframe tbody tr th {\n",
       "        vertical-align: top;\n",
       "    }\n",
       "\n",
       "    .dataframe thead th {\n",
       "        text-align: right;\n",
       "    }\n",
       "</style>\n",
       "<table border=\"1\" class=\"dataframe\">\n",
       "  <thead>\n",
       "    <tr style=\"text-align: right;\">\n",
       "      <th></th>\n",
       "      <th>V17</th>\n",
       "      <th>V14</th>\n",
       "      <th>V12</th>\n",
       "      <th>V10</th>\n",
       "      <th>V3</th>\n",
       "      <th>V7</th>\n",
       "      <th>V16</th>\n",
       "      <th>V4</th>\n",
       "      <th>V1</th>\n",
       "      <th>V11</th>\n",
       "    </tr>\n",
       "  </thead>\n",
       "  <tbody>\n",
       "    <tr>\n",
       "      <th>138947</th>\n",
       "      <td>8.71392</td>\n",
       "      <td>4.287996</td>\n",
       "      <td>5.267205</td>\n",
       "      <td>4.533515</td>\n",
       "      <td>6.19907</td>\n",
       "      <td>3.734902</td>\n",
       "      <td>6.469187</td>\n",
       "      <td>3.044437</td>\n",
       "      <td>0.84829</td>\n",
       "      <td>2.288022</td>\n",
       "    </tr>\n",
       "  </tbody>\n",
       "</table>\n",
       "</div>"
      ],
      "text/plain": [
       "            V17       V14       V12       V10       V3        V7       V16  \\\n",
       "138947  8.71392  4.287996  5.267205  4.533515  6.19907  3.734902  6.469187   \n",
       "\n",
       "              V4       V1       V11  \n",
       "138947  3.044437  0.84829  2.288022  "
      ]
     },
     "execution_count": 45,
     "metadata": {},
     "output_type": "execute_result"
    }
   ],
   "source": [
    "df1=df[['V17','V14','V12','V10','V3','V7','V16','V4','V1','V11']]\n",
    "df1.head(1)"
   ]
  },
  {
   "cell_type": "code",
   "execution_count": 46,
   "metadata": {},
   "outputs": [
    {
     "name": "stdout",
     "output_type": "stream",
     "text": [
      "[0.00844038 0.06960915 0.02225137 0.10250012 0.00857429 0.00533681\n",
      " 0.01284791 0.00747204 0.00641648 0.04679841 0.086043   0.05458253\n",
      " 0.00618528 0.2589049  0.00745789 0.02484639 0.11246527 0.03425001\n",
      " 0.01148778 0.01039644 0.03977282 0.00667977 0.00827901 0.00616072\n",
      " 0.00373026 0.00746226 0.01002724 0.00617798 0.0148435 ]\n"
     ]
    },
    {
     "data": {
      "image/png": "[encoded data removed]",
      "text/plain": [
       "<Figure size 640x480 with 1 Axes>"
      ]
     },
     "metadata": {},
     "output_type": "display_data"
    }
   ],
   "source": [
    "from sklearn.ensemble import ExtraTreesClassifier\n",
    "import matplotlib.pyplot as plt\n",
    "model = ExtraTreesClassifier()\n",
    "model.fit(X1,y1)\n",
    "print(model.feature_importances_) #use inbuilt class feature_importances of tree based classifiers\n",
    "#plot graph of feature importances for better visualization\n",
    "feat_importances = pd.Series(model.feature_importances_, index=X.columns)\n",
    "feat_importances.nlargest(10).plot(kind='barh')\n",
    "plt.show()"
   ]
  },
  {
   "cell_type": "code",
   "execution_count": 47,
   "metadata": {},
   "outputs": [
    {
     "data": {
      "text/plain": [
       "<matplotlib.axes._subplots.AxesSubplot at 0x26f8ae5ceb8>"
      ]
     },
     "execution_count": 47,
     "metadata": {},
     "output_type": "execute_result"
    },
    {
     "data": {
      "image/png": "[encoded data removed]",
      "text/plain": [
       "<Figure size 640x480 with 2 Axes>"
      ]
     },
     "metadata": {},
     "output_type": "display_data"
    }
   ],
   "source": [
    "corr = df1.corr()\n",
    "\n",
    "# plot the heatmap\n",
    "sns.heatmap(corr, \n",
    "        xticklabels=corr.columns,\n",
    "        yticklabels=corr.columns)"
   ]
  },
  {
   "cell_type": "markdown",
   "metadata": {},
   "source": [
    "# SVM"
   ]
  },
  {
   "cell_type": "code",
   "execution_count": 50,
   "metadata": {},
   "outputs": [],
   "source": [
    "from sklearn.metrics import mean_squared_error,r2_score\n",
    "from sklearn.model_selection import cross_val_score, cross_val_predict"
   ]
  },
  {
   "cell_type": "code",
   "execution_count": 51,
   "metadata": {},
   "outputs": [
    {
     "name": "stdout",
     "output_type": "stream",
     "text": [
      "[0.72949837 0.54014724 0.80992736 0.80992736 0.75562089]\n",
      "Mean 5-Fold R Squared: 0.7290242445206127\n"
     ]
    }
   ],
   "source": [
    "cv_r2_scores_rf = cross_val_score(support, X, y, cv=5,scoring='r2')\n",
    "print(cv_r2_scores_rf)\n",
    "print(\"Mean 5-Fold R Squared: {}\".format(np.mean(cv_r2_scores_rf)))"
   ]
  }
 ],
 "metadata": {
  "kernelspec": {
   "display_name": "Python 3",
   "language": "python",
   "name": "python3"
  },
  "language_info": {
   "codemirror_mode": {
    "name": "ipython",
    "version": 3
   },
   "file_extension": ".py",
   "mimetype": "text/x-python",
   "name": "python",
   "nbconvert_exporter": "python",
   "pygments_lexer": "ipython3",
   "version": "3.6.8"
  }
 },
 "nbformat": 4,
 "nbformat_minor": 2
}
